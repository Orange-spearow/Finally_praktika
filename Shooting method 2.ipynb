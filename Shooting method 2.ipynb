{
 "cells": [
  {
   "cell_type": "code",
   "execution_count": 11,
   "id": "4400b3c2-ed9a-4adb-b937-4c07ff058b1f",
   "metadata": {},
   "outputs": [
    {
     "name": "stdout",
     "output_type": "stream",
     "text": [
      "Введите начальную мощность накачки Pp0:  80e-3\n"
     ]
    },
    {
     "name": "stdout",
     "output_type": "stream",
     "text": [
      "Начальное значение Ps_guess: 0.6606941693230926\n"
     ]
    }
   ],
   "source": [
    "import numpy as np\n",
    "import matplotlib.pyplot as plt\n",
    "from scipy.integrate import solve_ivp\n",
    "# Константы\n",
    "t21 = 10e-3\n",
    "h = 6.6e-34\n",
    "Aeff = 3.14 * (2e-6)**2\n",
    "Gp = 0.83\n",
    "Gs = 0.5311143935168284\n",
    "C = 3e8\n",
    "hs = 1550e-9\n",
    "hp = 980e-9\n",
    "Ner = 1.9e25\n",
    "alphap = 0.006\n",
    "alphas = 0.0\n",
    "l = 3\n",
    "dhs = 0.16e-9\n",
    "sigma12S = 3.198e-25\n",
    "sigma21S = 4.4e-25\n",
    "sigma12P = 2.245e-25\n",
    "sigma21P = 0.0\n",
    "z0 = 0\n",
    "Z = 100\n",
    "H = l / Z\n",
    "zzz = np.linspace(z0, l, Z)\n",
    "#R1 = 0.9\n",
    "R2 = 0.9 # Выход\n",
    "x1 = 0.001\n",
    "x2 = 0.01\n",
    "epsilon = 1e-6  # Точность для вычислений\n",
    "count = 0\n",
    "Pp = float(input(\"Введите начальную мощность накачки Pp0: \"))\n",
    "# Функции для расчета изменений концентраций и мощностей\n",
    "def dN2(z, N2, N1, Pp, Ps):\n",
    "    return Gp * hp / (h * C * Aeff ) * (sigma12P * N1 - sigma21P * N2) * Pp + Gs * hp / (h * C * Aeff) * \\\n",
    "           (sigma12S * N1 - sigma21S * N2) * Ps - N2 / t21\n",
    "def dN1(z, N2, N1, Pp, Ps):\n",
    "    return -(Gp * hp / (h * C * Aeff ) * (sigma12P * N1 - sigma21P * N2) * Pp + Gs * hp / (h * C * Aeff) * \\\n",
    "            (sigma12S * N1 - sigma21S * N2) * Ps - N2 / t21)\n",
    "def dPp(z, N2, N1, Pp):\n",
    "    return Gp * (sigma21P * N2 - sigma12P * N1) * Pp - alphap * Pp\n",
    "def dPs(z, N2, N1, Ps):\n",
    "    return Gs * (sigma21S * N2 - sigma12S * N1) * Ps - alphas * Ps \n",
    "# Объединяем функции в одну для использования в solve_ivp\n",
    "def system(z, y):\n",
    "    N2, N1, Pp, Ps = y\n",
    "    return np.array([dN2(z, N2, N1, Pp, Ps), dN1(z, N2, N1, Pp, Ps), dPp(z, N2, N1, Pp), dPs(z, N2, N1, Ps)])\n",
    "# Функция для вычисления ошибки\n",
    "while abs(x2 - x1) > epsilon and (count < 100):\n",
    "    # Решение с первой догадкой мощности\n",
    "    sol1 = solve_ivp(system, [0, l], [0.0, Ner, Pp, x1], method='RK45', max_step=H)\n",
    "    Ps1 = sol1.y[3, -1]\n",
    "    \n",
    "    # Решение с второй догадкой мощности\n",
    "    sol2 = solve_ivp(system, [0, l], [0.0, Ner ,Pp, x2], method='RK45', max_step=H)\n",
    "    Ps2 = sol2.y[3, -1]\n",
    "    \n",
    "    # Расчет отраженной мощности\n",
    "    P01 = Ps1 * R2\n",
    "    P02 = Ps2 * R2\n",
    "    \n",
    "    # Обновление значений мощности сигнала с использованием метода секанта\n",
    "    m1 = P01 - x1\n",
    "    m2 = P02 - x2\n",
    "    tmp = x2\n",
    "    x2 = x1 - ((x1 - x2) / (m1 - m2) * m1)\n",
    "    x1 = tmp\n",
    "    count += 1\n",
    "# Получаем итоговые значения для мощности сигнала и накачки\n",
    "print(f\"Начальное значение Ps_guess: {x2}\")"
   ]
  }
 ],
 "metadata": {
  "kernelspec": {
   "display_name": "base",
   "language": "python",
   "name": "python3"
  },
  "language_info": {
   "codemirror_mode": {
    "name": "ipython",
    "version": 3
   },
   "file_extension": ".py",
   "mimetype": "text/x-python",
   "name": "python",
   "nbconvert_exporter": "python",
   "pygments_lexer": "ipython3",
   "version": "3.12.4"
  }
 },
 "nbformat": 4,
 "nbformat_minor": 5
}
