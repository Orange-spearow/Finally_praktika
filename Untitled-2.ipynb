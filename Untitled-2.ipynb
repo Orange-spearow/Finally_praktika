{
 "cells": [
  {
   "cell_type": "code",
   "execution_count": 4,
   "id": "65fd27c4",
   "metadata": {},
   "outputs": [],
   "source": [
    "import numpy as np\n",
    "import pandas as pd\n",
    "df = pd.read_csv('RigolDS9_nA3.csv')\n",
    "t_signal = np.linspace(-1.0000E-03, 1.0000E-03, 500000)\n",
    "Amp_signal = np.array(df.iloc[:,1])\n",
    "df[df.columns[0]] = t_signal\n",
    "df.to_csv('modified_nA3.csv', index=False)"
   ]
  }
 ],
 "metadata": {
  "kernelspec": {
   "display_name": "Python 3",
   "language": "python",
   "name": "python3"
  },
  "language_info": {
   "codemirror_mode": {
    "name": "ipython",
    "version": 3
   },
   "file_extension": ".py",
   "mimetype": "text/x-python",
   "name": "python",
   "nbconvert_exporter": "python",
   "pygments_lexer": "ipython3",
   "version": "3.13.2"
  }
 },
 "nbformat": 4,
 "nbformat_minor": 5
}
